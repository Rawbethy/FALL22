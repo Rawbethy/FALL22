{
 "cells": [
  {
   "cell_type": "code",
   "execution_count": 1,
   "id": "b9ef8a72",
   "metadata": {},
   "outputs": [
    {
     "name": "stdout",
     "output_type": "stream",
     "text": [
      "Inorder traversal of the constructed tree is\n",
      "3 2 5 4 6 1 8 7 9 "
     ]
    }
   ],
   "source": [
    "class Node:\n",
    "     \n",
    "    def __init__(self, x):\n",
    "         \n",
    "        self.data = x\n",
    "        self.left = None\n",
    "        self.right = None\n",
    "\n",
    "def buildTree(inn, pre, inStrt, inEnd):\n",
    "     \n",
    "    global preIndex, mp\n",
    " \n",
    "    if (inStrt > inEnd):\n",
    "        return None\n",
    " \n",
    "    curr = pre[preIndex]\n",
    "    preIndex += 1\n",
    "    tNode = Node(curr)\n",
    "\n",
    "    if (inStrt == inEnd):\n",
    "        return tNode\n",
    "\n",
    "    inIndex = mp[curr]\n",
    "\n",
    "    tNode.left = buildTree(inn, pre, inStrt,\n",
    "                           inIndex - 1)\n",
    "    tNode.right = buildTree(inn, pre, inIndex + 1,\n",
    "                            inEnd)\n",
    " \n",
    "    return tNode\n",
    "\n",
    "def buldTreeWrap(inn, pre, lenn):\n",
    "     \n",
    "    global mp\n",
    "\n",
    "    for i in range(lenn):\n",
    "        mp[inn[i]] = i\n",
    " \n",
    "    return buildTree(inn, pre, 0, lenn - 1)\n",
    "\n",
    "def printInorder(node):\n",
    " \n",
    "    if (node == None):\n",
    "        return\n",
    "         \n",
    "    printInorder(node.left)\n",
    "    print(node.data, end = \" \")\n",
    "    printInorder(node.right)\n",
    "     \n",
    "mp = {}\n",
    "preIndex = 0\n",
    " \n",
    "inn = [3,2,5,4,6,1,8,7,9]\n",
    "pre = [1,2,3,4,5,6,7,8,9]\n",
    "lenn = len(inn)\n",
    " \n",
    "root = buldTreeWrap(inn, pre,lenn)\n",
    "\n",
    "print(\"Inorder traversal of \"\n",
    "        \"the constructed tree is\")\n",
    "     \n",
    "printInorder(root)"
   ]
  }
 ],
 "metadata": {
  "kernelspec": {
   "display_name": "Python 3 (ipykernel)",
   "language": "python",
   "name": "python3"
  },
  "language_info": {
   "codemirror_mode": {
    "name": "ipython",
    "version": 3
   },
   "file_extension": ".py",
   "mimetype": "text/x-python",
   "name": "python",
   "nbconvert_exporter": "python",
   "pygments_lexer": "ipython3",
   "version": "3.10.6"
  }
 },
 "nbformat": 4,
 "nbformat_minor": 5
}
