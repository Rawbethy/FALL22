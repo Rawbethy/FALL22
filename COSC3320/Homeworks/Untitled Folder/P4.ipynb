{
 "cells": [
  {
   "cell_type": "code",
   "execution_count": 63,
   "id": "ee19a00f",
   "metadata": {},
   "outputs": [],
   "source": [
    "import numpy as np\n",
    "\n",
    "mat = np.array([[3,5,7,4,6],\n",
    "               [5,3,1,5,3],\n",
    "               [2,8,3,1,4],\n",
    "               [4,5,7,2,3],\n",
    "               [3,1,3,2,0]])\n",
    "ans = []"
   ]
  },
  {
   "cell_type": "code",
   "execution_count": 64,
   "id": "7b37be9d",
   "metadata": {},
   "outputs": [
    {
     "name": "stdout",
     "output_type": "stream",
     "text": [
      "[[3 5 7 4 6]\n",
      " [5 3 1 5 3]\n",
      " [2 8 3 1 4]\n",
      " [4 5 7 2 3]\n",
      " [3 1 3 2 0]]\n",
      "8\n"
     ]
    }
   ],
   "source": [
    "def BFS(mat, visited, ans, init = ()):\n",
    "    queue = []\n",
    "    if len(init) == 0:\n",
    "        queue.append((mat[0][0], 0, 0, 0)) \n",
    "    else:\n",
    "        queue.append(init)\n",
    "    while len(queue) != 0:\n",
    "        if (queue[0][1] + queue[0][0] < x) and (visited[(queue[0][1] + queue[0][0])][queue[0][2]] == False):\n",
    "            queue.append((mat[(queue[0][1] + queue[0][0])][queue[0][2]], queue[0][1] + queue[0][0], queue[0][2], queue[0][3] + 1))\n",
    "            visited[(queue[0][1] + queue[0][0])][queue[0][2]] = True\n",
    "            if (queue[0][1] + queue[0][0] == x-1) and (queue[0][2] == x-1):\n",
    "                ans.append(queue[0][3]+1)\n",
    "\n",
    "        if (queue[0][1] - queue[0][0] >= 0) and (visited[(queue[0][1] - queue[0][0])][queue[0][2]] == False):\n",
    "            queue.append((mat[(queue[0][1] - queue[0][0])][queue[0][2]], queue[0][1] - queue[0][0], queue[0][2], queue[0][3] + 1))\n",
    "            visited[(queue[0][1] - queue[0][0])][queue[0][2]] = True\n",
    "            if (queue[0][1] - queue[0][0] == x-1) and (queue[0][2] == x-1):\n",
    "                ans.append(queue[0][3]+1)                \n",
    "\n",
    "        if (queue[0][2] + queue[0][0] < y) and (visited[queue[0][1]][(queue[0][2] + queue[0][0])] == False):\n",
    "            queue.append((mat[queue[0][1]][(queue[0][2] + queue[0][0])], queue[0][1], queue[0][2] + queue[0][0], queue[0][3] + 1))\n",
    "            visited[queue[0][1]][(queue[0][2] + queue[0][0])] = True\n",
    "            if (queue[0][1] == x-1) and (queue[0][2] + queue[0][0] == x-1):\n",
    "                ans.append(queue[0][3]+1)                    \n",
    "\n",
    "        if (queue[0][2] - queue[0][0] >= 0) and (visited[queue[0][1]][(queue[0][2] - queue[0][0])] == False):  \n",
    "            queue.append((mat[queue[0][1]][(queue[0][2] - queue[0][0])], queue[0][1], queue[0][2] - queue[0][0], queue[0][3] + 1))\n",
    "            visited[queue[0][1]][(queue[0][2] - queue[0][0])] = True\n",
    "            if (queue[0][1] == x-1) and (queue[0][2] - queue[0][0] == x-1):\n",
    "                ans.append(queue[0][3]+1)\n",
    "        queue.pop(0)\n",
    "\n",
    "\n",
    "x,y = mat.shape\n",
    "visited = np.full((x,y), False, dtype=bool)\n",
    "BFS(mat, visited, ans)\n",
    "print(mat)\n",
    "if(len(ans) == 0):\n",
    "    print(\"No Solution\")\n",
    "else:\n",
    "    print(min(ans))\n"
   ]
  },
  {
   "cell_type": "code",
   "execution_count": null,
   "id": "956a0216",
   "metadata": {},
   "outputs": [],
   "source": []
  }
 ],
 "metadata": {
  "kernelspec": {
   "display_name": "Python 3 (ipykernel)",
   "language": "python",
   "name": "python3"
  },
  "language_info": {
   "codemirror_mode": {
    "name": "ipython",
    "version": 3
   },
   "file_extension": ".py",
   "mimetype": "text/x-python",
   "name": "python",
   "nbconvert_exporter": "python",
   "pygments_lexer": "ipython3",
   "version": "3.10.6"
  }
 },
 "nbformat": 4,
 "nbformat_minor": 5
}
