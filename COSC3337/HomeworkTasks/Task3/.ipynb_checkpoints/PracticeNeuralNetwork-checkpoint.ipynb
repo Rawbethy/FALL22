{
 "cells": [
  {
   "cell_type": "code",
   "execution_count": 61,
   "id": "26c1a93b",
   "metadata": {},
   "outputs": [
    {
     "name": "stdout",
     "output_type": "stream",
     "text": [
      "Epoch 1/3\n",
      "1875/1875 [==============================] - 4s 2ms/step - loss: 0.2337 - accuracy: 0.9309\n",
      "Epoch 2/3\n",
      "1875/1875 [==============================] - 4s 2ms/step - loss: 0.0952 - accuracy: 0.9704\n",
      "Epoch 3/3\n",
      "1875/1875 [==============================] - 4s 2ms/step - loss: 0.0629 - accuracy: 0.9802\n"
     ]
    },
    {
     "data": {
      "text/plain": [
       "<keras.callbacks.History at 0x1fe886496f0>"
      ]
     },
     "execution_count": 61,
     "metadata": {},
     "output_type": "execute_result"
    }
   ],
   "source": [
    "import tensorflow as tf\n",
    "\n",
    "mnist = tf.keras.datasets.mnist  #28x28 images of hand-written digits 0-9\n",
    "\n",
    "(x_train, y_train), (x_test, y_test) = mnist.load_data()\n",
    "\n",
    "x_train = tf.keras.utils.normalize(x_train, axis = 1)\n",
    "x_test = tf.keras.utils.normalize(x_test, axis = 1)\n",
    "\n",
    "model = tf.keras.models.Sequential() # Used for forward propogation\n",
    "model.add(tf.keras.layers.Flatten()) # Flattens the first layer of data so it each neuron can map to each neuron of the next layer\n",
    "model.add(tf.keras.layers.Dense(200, activation = tf.nn.relu))  # First hidden layer will cantain 200 neurons, 'relu' is rectified linear unit activation function\n",
    "model.add(tf.keras.layers.Dense(200, activation = tf.nn.relu))  # Second hidden layer will contain 200 neurons with relu activiation function\n",
    "model.add(tf.keras.layers.Dense(10, activation = tf.nn.softmax))  # Final layer will contain 10 values (0-9) that will use softmax as the activation function\n",
    "                                                                  # Softmax will transform all values in the layer into a probability between 0 and 1\n",
    "                                                                  # The sum of all probabilities in the layer will equal to 1\n",
    "\n",
    "model.compile(optimizer = 'adam',                                 # .compile for keras model will take the parameters\n",
    "              loss = 'sparse_categorical_crossentropy',           # optimizer = what kind of backpropogation teachnique is used for the neural network to make up for loss\n",
    "              metrics = ['accuracy'])                             # loss = loss function that calculates how incorrect the prediction of the model is\n",
    "                                                                  # metrics = used to measure the accuracy of the model\n",
    "model.fit(x_train, y_train, epochs=3)"
   ]
  },
  {
   "cell_type": "code",
   "execution_count": 59,
   "id": "b9ac5829",
   "metadata": {},
   "outputs": [
    {
     "data": {
      "image/png": "[encoded data removed]",
      "text/plain": [
       "<Figure size 640x480 with 1 Axes>"
      ]
     },
     "metadata": {},
     "output_type": "display_data"
    }
   ],
   "source": [
    "import matplotlib.pyplot as plt\n",
    "\n",
    "plt.imshow(x_test[1000], cmap = plt.cm.binary)\n",
    "plt.show()"
   ]
  },
  {
   "cell_type": "code",
   "execution_count": 60,
   "id": "9a25c58e",
   "metadata": {},
   "outputs": [
    {
     "name": "stdout",
     "output_type": "stream",
     "text": [
      "WARNING:tensorflow:Layers in a Sequential model should only have a single input tensor. Received: inputs=(<tf.Tensor 'IteratorGetNext:0' shape=(None, 28, 28) dtype=float32>,). Consider rewriting this model with the Functional API.\n",
      "313/313 [==============================] - 0s 1ms/step\n",
      "9\n"
     ]
    }
   ],
   "source": [
    "import numpy as np\n",
    "predictions = model.predict([x_test])\n",
    "print(np.argmax(predictions[1000]))"
   ]
  },
  {
   "cell_type": "code",
   "execution_count": null,
   "id": "3e5559a3",
   "metadata": {},
   "outputs": [],
   "source": []
  }
 ],
 "metadata": {
  "kernelspec": {
   "display_name": "Python 3 (ipykernel)",
   "language": "python",
   "name": "python3"
  },
  "language_info": {
   "codemirror_mode": {
    "name": "ipython",
    "version": 3
   },
   "file_extension": ".py",
   "mimetype": "text/x-python",
   "name": "python",
   "nbconvert_exporter": "python",
   "pygments_lexer": "ipython3",
   "version": "3.10.6"
  }
 },
 "nbformat": 4,
 "nbformat_minor": 5
}
